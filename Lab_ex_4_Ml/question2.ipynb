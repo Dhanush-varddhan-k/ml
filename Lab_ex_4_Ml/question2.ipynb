{
 "cells": [
  {
   "cell_type": "code",
   "execution_count": 1,
   "id": "51f9b70c",
   "metadata": {},
   "outputs": [],
   "source": [
    "from collections import Counter\n",
    "import numpy as np\n"
   ]
  },
  {
   "cell_type": "markdown",
   "id": "71583991",
   "metadata": {},
   "source": [
    "# train data"
   ]
  },
  {
   "cell_type": "code",
   "execution_count": 2,
   "id": "9b7b2639",
   "metadata": {},
   "outputs": [],
   "source": [
    "X_train = np.array([\n",
    "    ['Sunny', 'Hot', 'High', 'Weak'],\n",
    "    ['Sunny', 'Hot', 'High', 'Strong'],\n",
    "    ['Overcast', 'Hot', 'High', 'Weak'],\n",
    "    ['Rain', 'Mild', 'High', 'Weak'],\n",
    "    ['Rain', 'Cool', 'Normal', 'Weak'],\n",
    "    ['Rain', 'Cool', 'Normal', 'Strong'],\n",
    "    ['Overcast', 'Cool', 'Normal', 'Strong'],\n",
    "    ['Sunny', 'Mild', 'High', 'Weak'],\n",
    "    ['Sunny', 'Cool', 'Normal', 'Weak'],\n",
    "    ['Rain', 'Mild', 'Normal', 'Weak'],\n",
    "    ['Sunny', 'Mild', 'Normal', 'Strong'],\n",
    "    ['Overcast', 'Mild', 'High', 'Strong'],\n",
    "    ['Overcast', 'Hot', 'Normal', 'Weak'],\n",
    "    ['Rain', 'Mild', 'High', 'Strong']\n",
    "])"
   ]
  },
  {
   "cell_type": "code",
   "execution_count": 4,
   "id": "39f9b0b8",
   "metadata": {},
   "outputs": [],
   "source": [
    "y_train = np.array(['No', 'No', 'Yes', 'Yes', 'Yes', 'No', 'Yes', 'No', 'Yes', 'Yes', 'Yes', 'Yes', 'Yes', 'No'])\n"
   ]
  },
  {
   "cell_type": "markdown",
   "id": "16afd0a0",
   "metadata": {},
   "source": [
    "# Test data"
   ]
  },
  {
   "cell_type": "code",
   "execution_count": 6,
   "id": "3d572f0d",
   "metadata": {},
   "outputs": [],
   "source": [
    "X_test = np.array([\n",
    "    ['Sunny', 'Hot', 'Normal', 'Weak'],\n",
    "    ['Overcast', 'Cool', 'Normal', 'Strong'],\n",
    "    ['Rain', 'Mild', 'High', 'Weak'],\n",
    "    ['Sunny', 'Mild', 'High', 'Strong']\n",
    "])"
   ]
  },
  {
   "cell_type": "markdown",
   "id": "39825698",
   "metadata": {},
   "source": [
    "# decision tree class"
   ]
  },
  {
   "cell_type": "code",
   "execution_count": 7,
   "id": "2c91b373",
   "metadata": {},
   "outputs": [],
   "source": [
    "class DecisionTree:\n",
    "    def __init__(self):\n",
    "        self.tree = {}\n",
    "\n",
    "    def fit(self, X, y):\n",
    "        self.tree = self._build_tree(X, y)\n",
    "\n",
    "    def _calculate_entropy(self, y):\n",
    "        counter = Counter(y)\n",
    "        entropy = 0\n",
    "        total = len(y)\n",
    "        for label in counter:\n",
    "            probability = counter[label] / total\n",
    "            entropy -= probability * np.log2(probability)\n",
    "        return entropy\n",
    "\n",
    "    def _split_data(self, X, y, feature_index, value):\n",
    "        left_X, left_y, right_X, right_y = [], [], [], []\n",
    "        for i, val in enumerate(X[:, feature_index]):\n",
    "            if val == value:\n",
    "                left_X.append(X[i])\n",
    "                left_y.append(y[i])\n",
    "            else:\n",
    "                right_X.append(X[i])\n",
    "                right_y.append(y[i])\n",
    "        return np.array(left_X), np.array(left_y), np.array(right_X), np.array(right_y)\n",
    "\n",
    "    def _find_best_split(self, X, y):\n",
    "        best_entropy = float('inf')\n",
    "        best_feature_index = -1\n",
    "        best_value = None\n",
    "\n",
    "        for feature_index in range(X.shape[1]):\n",
    "            unique_values = set(X[:, feature_index])\n",
    "            for value in unique_values:\n",
    "                left_X, left_y, right_X, right_y = self._split_data(X, y, feature_index, value)\n",
    "                total_entropy = (len(left_y) / len(y)) * self._calculate_entropy(left_y) + \\\n",
    "                                (len(right_y) / len(y)) * self._calculate_entropy(right_y)\n",
    "                if total_entropy < best_entropy:\n",
    "                    best_entropy = total_entropy\n",
    "                    best_feature_index = feature_index\n",
    "                    best_value = value\n",
    "\n",
    "        return best_feature_index, best_value\n",
    "\n",
    "    def _build_tree(self, X, y):\n",
    "        if len(set(y)) == 1:\n",
    "            return {'prediction': y[0], 'probabilities': {y[0]: 1.0}}\n",
    "        \n",
    "        if len(X) == 0:\n",
    "            most_common_label = Counter(y).most_common(1)[0][0]\n",
    "            return {'prediction': most_common_label, 'probabilities': {most_common_label: 1.0}}\n",
    "\n",
    "        best_feature_index, best_value = self._find_best_split(X, y)\n",
    "        left_X, left_y, right_X, right_y = self._split_data(X, y, best_feature_index, best_value)\n",
    "\n",
    "        return {\n",
    "            'feature_index': best_feature_index,\n",
    "            'value': best_value,\n",
    "            'left': self._build_tree(left_X, left_y),\n",
    "            'right': self._build_tree(right_X, right_y)\n",
    "        }\n",
    "\n",
    "    def _predict_single(self, sample, tree):\n",
    "        if 'prediction' in tree:\n",
    "            return tree['prediction'], tree['probabilities']\n",
    "        feature_index = tree['feature_index']\n",
    "        value = tree['value']\n",
    "        if sample[feature_index] == value:\n",
    "            return self._predict_single(sample, tree['left'])\n",
    "        else:\n",
    "            return self._predict_single(sample, tree['right'])\n",
    "\n",
    "    def predict(self, X):\n",
    "        predictions = []\n",
    "        probabilities = []\n",
    "        for sample in X:\n",
    "            prediction, probs = self._predict_single(sample, self.tree)\n",
    "            predictions.append(prediction)\n",
    "            probabilities.append(probs)\n",
    "        return predictions, probabilities\n",
    "\n"
   ]
  },
  {
   "cell_type": "code",
   "execution_count": 8,
   "id": "7103eaab",
   "metadata": {},
   "outputs": [],
   "source": [
    "tree = DecisionTree()\n",
    "tree.fit(X_train, y_train)"
   ]
  },
  {
   "cell_type": "code",
   "execution_count": 9,
   "id": "f0547c4e",
   "metadata": {},
   "outputs": [],
   "source": [
    "predictions, probabilities = tree.predict(X_test)"
   ]
  },
  {
   "cell_type": "markdown",
   "id": "38c3d83c",
   "metadata": {},
   "source": [
    "# Prediction and probability "
   ]
  },
  {
   "cell_type": "code",
   "execution_count": 10,
   "id": "e051ee96",
   "metadata": {},
   "outputs": [
    {
     "name": "stdout",
     "output_type": "stream",
     "text": [
      "Predictions: ['Yes', 'Yes', 'Yes', 'No']\n",
      "Probabilities: [{'Yes': 1.0}, {'Yes': 1.0}, {'Yes': 1.0}, {'No': 1.0}]\n"
     ]
    }
   ],
   "source": [
    "print(\"Predictions:\", predictions)\n",
    "print(\"Probabilities:\", probabilities)\n"
   ]
  }
 ],
 "metadata": {
  "kernelspec": {
   "display_name": "Python 3 (ipykernel)",
   "language": "python",
   "name": "python3"
  },
  "language_info": {
   "codemirror_mode": {
    "name": "ipython",
    "version": 3
   },
   "file_extension": ".py",
   "mimetype": "text/x-python",
   "name": "python",
   "nbconvert_exporter": "python",
   "pygments_lexer": "ipython3",
   "version": "3.9.13"
  }
 },
 "nbformat": 4,
 "nbformat_minor": 5
}
