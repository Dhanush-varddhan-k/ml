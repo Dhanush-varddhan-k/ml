{
 "cells": [
  {
   "cell_type": "code",
   "execution_count": 1,
   "id": "027ea74d",
   "metadata": {},
   "outputs": [],
   "source": [
    "import pandas as pd\n",
    "data=pd.read_csv('telecom_customer_churn.csv')"
   ]
  },
  {
   "cell_type": "code",
   "execution_count": 3,
   "id": "5c4dcd91",
   "metadata": {},
   "outputs": [
    {
     "data": {
      "text/html": [
       "<div>\n",
       "<style scoped>\n",
       "    .dataframe tbody tr th:only-of-type {\n",
       "        vertical-align: middle;\n",
       "    }\n",
       "\n",
       "    .dataframe tbody tr th {\n",
       "        vertical-align: top;\n",
       "    }\n",
       "\n",
       "    .dataframe thead th {\n",
       "        text-align: right;\n",
       "    }\n",
       "</style>\n",
       "<table border=\"1\" class=\"dataframe\">\n",
       "  <thead>\n",
       "    <tr style=\"text-align: right;\">\n",
       "      <th></th>\n",
       "      <th>Customer ID</th>\n",
       "      <th>Gender</th>\n",
       "      <th>Age</th>\n",
       "      <th>Married</th>\n",
       "      <th>Number of Dependents</th>\n",
       "      <th>City</th>\n",
       "      <th>Zip Code</th>\n",
       "      <th>Latitude</th>\n",
       "      <th>Longitude</th>\n",
       "      <th>Number of Referrals</th>\n",
       "      <th>...</th>\n",
       "      <th>Payment Method</th>\n",
       "      <th>Monthly Charge</th>\n",
       "      <th>Total Charges</th>\n",
       "      <th>Total Refunds</th>\n",
       "      <th>Total Extra Data Charges</th>\n",
       "      <th>Total Long Distance Charges</th>\n",
       "      <th>Total Revenue</th>\n",
       "      <th>Customer Status</th>\n",
       "      <th>Churn Category</th>\n",
       "      <th>Churn Reason</th>\n",
       "    </tr>\n",
       "  </thead>\n",
       "  <tbody>\n",
       "    <tr>\n",
       "      <th>0</th>\n",
       "      <td>0002-ORFBO</td>\n",
       "      <td>Female</td>\n",
       "      <td>37</td>\n",
       "      <td>Yes</td>\n",
       "      <td>0</td>\n",
       "      <td>Frazier Park</td>\n",
       "      <td>93225</td>\n",
       "      <td>34.827662</td>\n",
       "      <td>-118.999073</td>\n",
       "      <td>2</td>\n",
       "      <td>...</td>\n",
       "      <td>Credit Card</td>\n",
       "      <td>65.6</td>\n",
       "      <td>593.30</td>\n",
       "      <td>0.00</td>\n",
       "      <td>0</td>\n",
       "      <td>381.51</td>\n",
       "      <td>974.81</td>\n",
       "      <td>1</td>\n",
       "      <td>NaN</td>\n",
       "      <td>NaN</td>\n",
       "    </tr>\n",
       "    <tr>\n",
       "      <th>1</th>\n",
       "      <td>0003-MKNFE</td>\n",
       "      <td>Male</td>\n",
       "      <td>46</td>\n",
       "      <td>No</td>\n",
       "      <td>0</td>\n",
       "      <td>Glendale</td>\n",
       "      <td>91206</td>\n",
       "      <td>34.162515</td>\n",
       "      <td>-118.203869</td>\n",
       "      <td>0</td>\n",
       "      <td>...</td>\n",
       "      <td>Credit Card</td>\n",
       "      <td>-4.0</td>\n",
       "      <td>542.40</td>\n",
       "      <td>38.33</td>\n",
       "      <td>10</td>\n",
       "      <td>96.21</td>\n",
       "      <td>610.28</td>\n",
       "      <td>1</td>\n",
       "      <td>NaN</td>\n",
       "      <td>NaN</td>\n",
       "    </tr>\n",
       "    <tr>\n",
       "      <th>2</th>\n",
       "      <td>0004-TLHLJ</td>\n",
       "      <td>Male</td>\n",
       "      <td>50</td>\n",
       "      <td>No</td>\n",
       "      <td>0</td>\n",
       "      <td>Costa Mesa</td>\n",
       "      <td>92627</td>\n",
       "      <td>33.645672</td>\n",
       "      <td>-117.922613</td>\n",
       "      <td>0</td>\n",
       "      <td>...</td>\n",
       "      <td>Bank Withdrawal</td>\n",
       "      <td>73.9</td>\n",
       "      <td>280.85</td>\n",
       "      <td>0.00</td>\n",
       "      <td>0</td>\n",
       "      <td>134.60</td>\n",
       "      <td>415.45</td>\n",
       "      <td>0</td>\n",
       "      <td>Competitor</td>\n",
       "      <td>Competitor had better devices</td>\n",
       "    </tr>\n",
       "    <tr>\n",
       "      <th>3</th>\n",
       "      <td>0011-IGKFF</td>\n",
       "      <td>Male</td>\n",
       "      <td>78</td>\n",
       "      <td>Yes</td>\n",
       "      <td>0</td>\n",
       "      <td>Martinez</td>\n",
       "      <td>94553</td>\n",
       "      <td>38.014457</td>\n",
       "      <td>-122.115432</td>\n",
       "      <td>1</td>\n",
       "      <td>...</td>\n",
       "      <td>Bank Withdrawal</td>\n",
       "      <td>98.0</td>\n",
       "      <td>1237.85</td>\n",
       "      <td>0.00</td>\n",
       "      <td>0</td>\n",
       "      <td>361.66</td>\n",
       "      <td>1599.51</td>\n",
       "      <td>0</td>\n",
       "      <td>Dissatisfaction</td>\n",
       "      <td>Product dissatisfaction</td>\n",
       "    </tr>\n",
       "    <tr>\n",
       "      <th>4</th>\n",
       "      <td>0013-EXCHZ</td>\n",
       "      <td>Female</td>\n",
       "      <td>75</td>\n",
       "      <td>Yes</td>\n",
       "      <td>0</td>\n",
       "      <td>Camarillo</td>\n",
       "      <td>93010</td>\n",
       "      <td>34.227846</td>\n",
       "      <td>-119.079903</td>\n",
       "      <td>3</td>\n",
       "      <td>...</td>\n",
       "      <td>Credit Card</td>\n",
       "      <td>83.9</td>\n",
       "      <td>267.40</td>\n",
       "      <td>0.00</td>\n",
       "      <td>0</td>\n",
       "      <td>22.14</td>\n",
       "      <td>289.54</td>\n",
       "      <td>0</td>\n",
       "      <td>Dissatisfaction</td>\n",
       "      <td>Network reliability</td>\n",
       "    </tr>\n",
       "  </tbody>\n",
       "</table>\n",
       "<p>5 rows × 38 columns</p>\n",
       "</div>"
      ],
      "text/plain": [
       "  Customer ID  Gender  Age Married  Number of Dependents          City  \\\n",
       "0  0002-ORFBO  Female   37     Yes                     0  Frazier Park   \n",
       "1  0003-MKNFE    Male   46      No                     0      Glendale   \n",
       "2  0004-TLHLJ    Male   50      No                     0    Costa Mesa   \n",
       "3  0011-IGKFF    Male   78     Yes                     0      Martinez   \n",
       "4  0013-EXCHZ  Female   75     Yes                     0     Camarillo   \n",
       "\n",
       "   Zip Code   Latitude   Longitude  Number of Referrals  ...   Payment Method  \\\n",
       "0     93225  34.827662 -118.999073                    2  ...      Credit Card   \n",
       "1     91206  34.162515 -118.203869                    0  ...      Credit Card   \n",
       "2     92627  33.645672 -117.922613                    0  ...  Bank Withdrawal   \n",
       "3     94553  38.014457 -122.115432                    1  ...  Bank Withdrawal   \n",
       "4     93010  34.227846 -119.079903                    3  ...      Credit Card   \n",
       "\n",
       "  Monthly Charge Total Charges  Total Refunds Total Extra Data Charges  \\\n",
       "0           65.6        593.30           0.00                        0   \n",
       "1           -4.0        542.40          38.33                       10   \n",
       "2           73.9        280.85           0.00                        0   \n",
       "3           98.0       1237.85           0.00                        0   \n",
       "4           83.9        267.40           0.00                        0   \n",
       "\n",
       "  Total Long Distance Charges Total Revenue  Customer Status   Churn Category  \\\n",
       "0                      381.51        974.81                1              NaN   \n",
       "1                       96.21        610.28                1              NaN   \n",
       "2                      134.60        415.45                0       Competitor   \n",
       "3                      361.66       1599.51                0  Dissatisfaction   \n",
       "4                       22.14        289.54                0  Dissatisfaction   \n",
       "\n",
       "                    Churn Reason  \n",
       "0                            NaN  \n",
       "1                            NaN  \n",
       "2  Competitor had better devices  \n",
       "3        Product dissatisfaction  \n",
       "4            Network reliability  \n",
       "\n",
       "[5 rows x 38 columns]"
      ]
     },
     "execution_count": 3,
     "metadata": {},
     "output_type": "execute_result"
    }
   ],
   "source": [
    "data.head()"
   ]
  },
  {
   "cell_type": "code",
   "execution_count": 5,
   "id": "583d21fc",
   "metadata": {},
   "outputs": [],
   "source": [
    "import numpy as np"
   ]
  },
  {
   "cell_type": "code",
   "execution_count": 7,
   "id": "ba441d10",
   "metadata": {},
   "outputs": [
    {
     "name": "stdout",
     "output_type": "stream",
     "text": [
      "<class 'pandas.core.frame.DataFrame'>\n",
      "RangeIndex: 6589 entries, 0 to 6588\n",
      "Data columns (total 38 columns):\n",
      " #   Column                             Non-Null Count  Dtype  \n",
      "---  ------                             --------------  -----  \n",
      " 0   Customer ID                        6589 non-null   object \n",
      " 1   Gender                             6589 non-null   object \n",
      " 2   Age                                6589 non-null   int64  \n",
      " 3   Married                            6589 non-null   object \n",
      " 4   Number of Dependents               6589 non-null   int64  \n",
      " 5   City                               6589 non-null   object \n",
      " 6   Zip Code                           6589 non-null   int64  \n",
      " 7   Latitude                           6589 non-null   float64\n",
      " 8   Longitude                          6589 non-null   float64\n",
      " 9   Number of Referrals                6589 non-null   int64  \n",
      " 10  Tenure in Months                   6589 non-null   int64  \n",
      " 11  Offer                              6589 non-null   object \n",
      " 12  Phone Service                      6589 non-null   object \n",
      " 13  Avg Monthly Long Distance Charges  5945 non-null   float64\n",
      " 14  Multiple Lines                     5945 non-null   object \n",
      " 15  Internet Service                   6589 non-null   object \n",
      " 16  Internet Type                      5245 non-null   object \n",
      " 17  Avg Monthly GB Download            5245 non-null   float64\n",
      " 18  Online Security                    5245 non-null   object \n",
      " 19  Online Backup                      5245 non-null   object \n",
      " 20  Device Protection Plan             5245 non-null   object \n",
      " 21  Premium Tech Support               5245 non-null   object \n",
      " 22  Streaming TV                       5245 non-null   object \n",
      " 23  Streaming Movies                   5245 non-null   object \n",
      " 24  Streaming Music                    5245 non-null   object \n",
      " 25  Unlimited Data                     5245 non-null   object \n",
      " 26  Contract                           6589 non-null   object \n",
      " 27  Paperless Billing                  6589 non-null   object \n",
      " 28  Payment Method                     6589 non-null   object \n",
      " 29  Monthly Charge                     6589 non-null   float64\n",
      " 30  Total Charges                      6589 non-null   float64\n",
      " 31  Total Refunds                      6589 non-null   float64\n",
      " 32  Total Extra Data Charges           6589 non-null   int64  \n",
      " 33  Total Long Distance Charges        6589 non-null   float64\n",
      " 34  Total Revenue                      6589 non-null   float64\n",
      " 35  Customer Status                    6589 non-null   int64  \n",
      " 36  Churn Category                     1869 non-null   object \n",
      " 37  Churn Reason                       1869 non-null   object \n",
      "dtypes: float64(9), int64(7), object(22)\n",
      "memory usage: 1.9+ MB\n"
     ]
    }
   ],
   "source": [
    "data.info()"
   ]
  },
  {
   "cell_type": "code",
   "execution_count": 9,
   "id": "ab56a937",
   "metadata": {},
   "outputs": [
    {
     "data": {
      "text/html": [
       "<div>\n",
       "<style scoped>\n",
       "    .dataframe tbody tr th:only-of-type {\n",
       "        vertical-align: middle;\n",
       "    }\n",
       "\n",
       "    .dataframe tbody tr th {\n",
       "        vertical-align: top;\n",
       "    }\n",
       "\n",
       "    .dataframe thead th {\n",
       "        text-align: right;\n",
       "    }\n",
       "</style>\n",
       "<table border=\"1\" class=\"dataframe\">\n",
       "  <thead>\n",
       "    <tr style=\"text-align: right;\">\n",
       "      <th></th>\n",
       "      <th>Age</th>\n",
       "      <th>Number of Dependents</th>\n",
       "      <th>Zip Code</th>\n",
       "      <th>Latitude</th>\n",
       "      <th>Longitude</th>\n",
       "      <th>Number of Referrals</th>\n",
       "      <th>Tenure in Months</th>\n",
       "      <th>Avg Monthly Long Distance Charges</th>\n",
       "      <th>Avg Monthly GB Download</th>\n",
       "      <th>Monthly Charge</th>\n",
       "      <th>Total Charges</th>\n",
       "      <th>Total Refunds</th>\n",
       "      <th>Total Extra Data Charges</th>\n",
       "      <th>Total Long Distance Charges</th>\n",
       "      <th>Total Revenue</th>\n",
       "      <th>Customer Status</th>\n",
       "    </tr>\n",
       "  </thead>\n",
       "  <tbody>\n",
       "    <tr>\n",
       "      <th>count</th>\n",
       "      <td>6589.000000</td>\n",
       "      <td>6589.000000</td>\n",
       "      <td>6589.000000</td>\n",
       "      <td>6589.000000</td>\n",
       "      <td>6589.000000</td>\n",
       "      <td>6589.000000</td>\n",
       "      <td>6589.000000</td>\n",
       "      <td>5945.000000</td>\n",
       "      <td>5245.000000</td>\n",
       "      <td>6589.000000</td>\n",
       "      <td>6589.000000</td>\n",
       "      <td>6589.000000</td>\n",
       "      <td>6589.000000</td>\n",
       "      <td>6589.000000</td>\n",
       "      <td>6589.000000</td>\n",
       "      <td>6589.000000</td>\n",
       "    </tr>\n",
       "    <tr>\n",
       "      <th>mean</th>\n",
       "      <td>46.760510</td>\n",
       "      <td>0.476097</td>\n",
       "      <td>93491.504477</td>\n",
       "      <td>36.199761</td>\n",
       "      <td>-119.757670</td>\n",
       "      <td>2.020944</td>\n",
       "      <td>34.499772</td>\n",
       "      <td>25.496246</td>\n",
       "      <td>26.225929</td>\n",
       "      <td>65.030695</td>\n",
       "      <td>2432.042243</td>\n",
       "      <td>2.080938</td>\n",
       "      <td>7.169525</td>\n",
       "      <td>798.087251</td>\n",
       "      <td>3235.218082</td>\n",
       "      <td>0.716345</td>\n",
       "    </tr>\n",
       "    <tr>\n",
       "      <th>std</th>\n",
       "      <td>16.841362</td>\n",
       "      <td>0.968499</td>\n",
       "      <td>1857.575392</td>\n",
       "      <td>2.472459</td>\n",
       "      <td>2.155696</td>\n",
       "      <td>3.024016</td>\n",
       "      <td>23.968734</td>\n",
       "      <td>14.198424</td>\n",
       "      <td>19.565724</td>\n",
       "      <td>31.100727</td>\n",
       "      <td>2265.500080</td>\n",
       "      <td>8.125054</td>\n",
       "      <td>25.803163</td>\n",
       "      <td>853.767972</td>\n",
       "      <td>2854.600036</td>\n",
       "      <td>0.450805</td>\n",
       "    </tr>\n",
       "    <tr>\n",
       "      <th>min</th>\n",
       "      <td>19.000000</td>\n",
       "      <td>0.000000</td>\n",
       "      <td>90001.000000</td>\n",
       "      <td>32.555828</td>\n",
       "      <td>-124.301372</td>\n",
       "      <td>0.000000</td>\n",
       "      <td>1.000000</td>\n",
       "      <td>1.010000</td>\n",
       "      <td>2.000000</td>\n",
       "      <td>-10.000000</td>\n",
       "      <td>18.850000</td>\n",
       "      <td>0.000000</td>\n",
       "      <td>0.000000</td>\n",
       "      <td>0.000000</td>\n",
       "      <td>21.610000</td>\n",
       "      <td>0.000000</td>\n",
       "    </tr>\n",
       "    <tr>\n",
       "      <th>25%</th>\n",
       "      <td>33.000000</td>\n",
       "      <td>0.000000</td>\n",
       "      <td>92103.000000</td>\n",
       "      <td>33.989524</td>\n",
       "      <td>-121.788090</td>\n",
       "      <td>0.000000</td>\n",
       "      <td>12.000000</td>\n",
       "      <td>13.140000</td>\n",
       "      <td>13.000000</td>\n",
       "      <td>35.800000</td>\n",
       "      <td>544.550000</td>\n",
       "      <td>0.000000</td>\n",
       "      <td>0.000000</td>\n",
       "      <td>106.680000</td>\n",
       "      <td>835.450000</td>\n",
       "      <td>0.000000</td>\n",
       "    </tr>\n",
       "    <tr>\n",
       "      <th>50%</th>\n",
       "      <td>46.000000</td>\n",
       "      <td>0.000000</td>\n",
       "      <td>93526.000000</td>\n",
       "      <td>36.245926</td>\n",
       "      <td>-119.601370</td>\n",
       "      <td>0.000000</td>\n",
       "      <td>32.000000</td>\n",
       "      <td>25.720000</td>\n",
       "      <td>21.000000</td>\n",
       "      <td>71.050000</td>\n",
       "      <td>1563.900000</td>\n",
       "      <td>0.000000</td>\n",
       "      <td>0.000000</td>\n",
       "      <td>472.680000</td>\n",
       "      <td>2376.450000</td>\n",
       "      <td>1.000000</td>\n",
       "    </tr>\n",
       "    <tr>\n",
       "      <th>75%</th>\n",
       "      <td>60.000000</td>\n",
       "      <td>0.000000</td>\n",
       "      <td>95333.000000</td>\n",
       "      <td>38.169605</td>\n",
       "      <td>-117.967399</td>\n",
       "      <td>3.000000</td>\n",
       "      <td>57.000000</td>\n",
       "      <td>37.690000</td>\n",
       "      <td>30.000000</td>\n",
       "      <td>90.400000</td>\n",
       "      <td>4003.000000</td>\n",
       "      <td>0.000000</td>\n",
       "      <td>0.000000</td>\n",
       "      <td>1275.120000</td>\n",
       "      <td>5106.640000</td>\n",
       "      <td>1.000000</td>\n",
       "    </tr>\n",
       "    <tr>\n",
       "      <th>max</th>\n",
       "      <td>80.000000</td>\n",
       "      <td>9.000000</td>\n",
       "      <td>96150.000000</td>\n",
       "      <td>41.962127</td>\n",
       "      <td>-114.192901</td>\n",
       "      <td>11.000000</td>\n",
       "      <td>72.000000</td>\n",
       "      <td>49.990000</td>\n",
       "      <td>85.000000</td>\n",
       "      <td>118.750000</td>\n",
       "      <td>8684.800000</td>\n",
       "      <td>49.790000</td>\n",
       "      <td>150.000000</td>\n",
       "      <td>3564.720000</td>\n",
       "      <td>11979.340000</td>\n",
       "      <td>1.000000</td>\n",
       "    </tr>\n",
       "  </tbody>\n",
       "</table>\n",
       "</div>"
      ],
      "text/plain": [
       "               Age  Number of Dependents      Zip Code     Latitude  \\\n",
       "count  6589.000000           6589.000000   6589.000000  6589.000000   \n",
       "mean     46.760510              0.476097  93491.504477    36.199761   \n",
       "std      16.841362              0.968499   1857.575392     2.472459   \n",
       "min      19.000000              0.000000  90001.000000    32.555828   \n",
       "25%      33.000000              0.000000  92103.000000    33.989524   \n",
       "50%      46.000000              0.000000  93526.000000    36.245926   \n",
       "75%      60.000000              0.000000  95333.000000    38.169605   \n",
       "max      80.000000              9.000000  96150.000000    41.962127   \n",
       "\n",
       "         Longitude  Number of Referrals  Tenure in Months  \\\n",
       "count  6589.000000          6589.000000       6589.000000   \n",
       "mean   -119.757670             2.020944         34.499772   \n",
       "std       2.155696             3.024016         23.968734   \n",
       "min    -124.301372             0.000000          1.000000   \n",
       "25%    -121.788090             0.000000         12.000000   \n",
       "50%    -119.601370             0.000000         32.000000   \n",
       "75%    -117.967399             3.000000         57.000000   \n",
       "max    -114.192901            11.000000         72.000000   \n",
       "\n",
       "       Avg Monthly Long Distance Charges  Avg Monthly GB Download  \\\n",
       "count                        5945.000000              5245.000000   \n",
       "mean                           25.496246                26.225929   \n",
       "std                            14.198424                19.565724   \n",
       "min                             1.010000                 2.000000   \n",
       "25%                            13.140000                13.000000   \n",
       "50%                            25.720000                21.000000   \n",
       "75%                            37.690000                30.000000   \n",
       "max                            49.990000                85.000000   \n",
       "\n",
       "       Monthly Charge  Total Charges  Total Refunds  Total Extra Data Charges  \\\n",
       "count     6589.000000    6589.000000    6589.000000               6589.000000   \n",
       "mean        65.030695    2432.042243       2.080938                  7.169525   \n",
       "std         31.100727    2265.500080       8.125054                 25.803163   \n",
       "min        -10.000000      18.850000       0.000000                  0.000000   \n",
       "25%         35.800000     544.550000       0.000000                  0.000000   \n",
       "50%         71.050000    1563.900000       0.000000                  0.000000   \n",
       "75%         90.400000    4003.000000       0.000000                  0.000000   \n",
       "max        118.750000    8684.800000      49.790000                150.000000   \n",
       "\n",
       "       Total Long Distance Charges  Total Revenue  Customer Status  \n",
       "count                  6589.000000    6589.000000      6589.000000  \n",
       "mean                    798.087251    3235.218082         0.716345  \n",
       "std                     853.767972    2854.600036         0.450805  \n",
       "min                       0.000000      21.610000         0.000000  \n",
       "25%                     106.680000     835.450000         0.000000  \n",
       "50%                     472.680000    2376.450000         1.000000  \n",
       "75%                    1275.120000    5106.640000         1.000000  \n",
       "max                    3564.720000   11979.340000         1.000000  "
      ]
     },
     "execution_count": 9,
     "metadata": {},
     "output_type": "execute_result"
    }
   ],
   "source": [
    "data.describe()"
   ]
  },
  {
   "cell_type": "markdown",
   "id": "8aa08ea7",
   "metadata": {},
   "source": [
    "# finding number of null values"
   ]
  },
  {
   "cell_type": "code",
   "execution_count": 11,
   "id": "e1bdaa45",
   "metadata": {},
   "outputs": [],
   "source": [
    "no_of_nul=list(data.isnull().sum())\n",
    "nul_columns=list()"
   ]
  },
  {
   "cell_type": "code",
   "execution_count": 14,
   "id": "837434d7",
   "metadata": {},
   "outputs": [],
   "source": [
    "for i in range(len(no_of_nul)):\n",
    "    if no_of_nul[i]!=0:\n",
    "        nul_columns.append(data.columns[i])"
   ]
  },
  {
   "cell_type": "code",
   "execution_count": 16,
   "id": "99061cb5",
   "metadata": {},
   "outputs": [
    {
     "data": {
      "text/plain": [
       "['Avg Monthly Long Distance Charges',\n",
       " 'Multiple Lines',\n",
       " 'Internet Type',\n",
       " 'Avg Monthly GB Download',\n",
       " 'Online Security',\n",
       " 'Online Backup',\n",
       " 'Device Protection Plan',\n",
       " 'Premium Tech Support',\n",
       " 'Streaming TV',\n",
       " 'Streaming Movies',\n",
       " 'Streaming Music',\n",
       " 'Unlimited Data',\n",
       " 'Churn Category',\n",
       " 'Churn Reason',\n",
       " 'Avg Monthly Long Distance Charges',\n",
       " 'Multiple Lines',\n",
       " 'Internet Type',\n",
       " 'Avg Monthly GB Download',\n",
       " 'Online Security',\n",
       " 'Online Backup',\n",
       " 'Device Protection Plan',\n",
       " 'Premium Tech Support',\n",
       " 'Streaming TV',\n",
       " 'Streaming Movies',\n",
       " 'Streaming Music',\n",
       " 'Unlimited Data',\n",
       " 'Churn Category',\n",
       " 'Churn Reason']"
      ]
     },
     "execution_count": 16,
     "metadata": {},
     "output_type": "execute_result"
    }
   ],
   "source": [
    "nul_columns"
   ]
  },
  {
   "cell_type": "code",
   "execution_count": 18,
   "id": "caf830f3",
   "metadata": {},
   "outputs": [
    {
     "name": "stdout",
     "output_type": "stream",
     "text": [
      "Avg Monthly Long Distance Charges                                           float64\n",
      "Multiple Lines                                           object\n",
      "Internet Type                                           object\n",
      "Avg Monthly GB Download                                           float64\n",
      "Online Security                                           object\n",
      "Online Backup                                           object\n",
      "Device Protection Plan                                           object\n",
      "Premium Tech Support                                           object\n",
      "Streaming TV                                           object\n",
      "Streaming Movies                                           object\n",
      "Streaming Music                                           object\n",
      "Unlimited Data                                           object\n",
      "Churn Category                                           object\n",
      "Churn Reason                                           object\n",
      "Avg Monthly Long Distance Charges                                           float64\n",
      "Multiple Lines                                           object\n",
      "Internet Type                                           object\n",
      "Avg Monthly GB Download                                           float64\n",
      "Online Security                                           object\n",
      "Online Backup                                           object\n",
      "Device Protection Plan                                           object\n",
      "Premium Tech Support                                           object\n",
      "Streaming TV                                           object\n",
      "Streaming Movies                                           object\n",
      "Streaming Music                                           object\n",
      "Unlimited Data                                           object\n",
      "Churn Category                                           object\n",
      "Churn Reason                                           object\n"
     ]
    }
   ],
   "source": [
    "for i in nul_columns:\n",
    "    print(i,'                                         ',data[i].dtypes)"
   ]
  },
  {
   "cell_type": "code",
   "execution_count": null,
   "id": "c80cb461",
   "metadata": {},
   "outputs": [],
   "source": [
    "data=data.drop('Churn Reason',axis=1)"
   ]
  },
  {
   "cell_type": "code",
   "execution_count": 21,
   "id": "933f169d",
   "metadata": {},
   "outputs": [],
   "source": [
    "data=data.drop('Churn Category',axis=1)"
   ]
  },
  {
   "cell_type": "markdown",
   "id": "59348ee1",
   "metadata": {},
   "source": [
    "# finding numerical columns"
   ]
  },
  {
   "cell_type": "code",
   "execution_count": 23,
   "id": "f931a7c4",
   "metadata": {},
   "outputs": [],
   "source": [
    "numerical_columns=data.select_dtypes(include=['int64','float64']).columns"
   ]
  },
  {
   "cell_type": "code",
   "execution_count": 25,
   "id": "c07351e7",
   "metadata": {},
   "outputs": [
    {
     "data": {
      "text/plain": [
       "Index(['Age', 'Number of Dependents', 'Zip Code', 'Latitude', 'Longitude',\n",
       "       'Number of Referrals', 'Tenure in Months',\n",
       "       'Avg Monthly Long Distance Charges', 'Avg Monthly GB Download',\n",
       "       'Monthly Charge', 'Total Charges', 'Total Refunds',\n",
       "       'Total Extra Data Charges', 'Total Long Distance Charges',\n",
       "       'Total Revenue', 'Customer Status'],\n",
       "      dtype='object')"
      ]
     },
     "execution_count": 25,
     "metadata": {},
     "output_type": "execute_result"
    }
   ],
   "source": [
    "numerical_columns"
   ]
  },
  {
   "cell_type": "markdown",
   "id": "9a2e720f",
   "metadata": {},
   "source": [
    "# finding number of numerical null columns"
   ]
  },
  {
   "cell_type": "code",
   "execution_count": 27,
   "id": "1e088b87",
   "metadata": {},
   "outputs": [
    {
     "name": "stdout",
     "output_type": "stream",
     "text": [
      "0\n",
      "0\n",
      "0\n",
      "0\n",
      "0\n",
      "0\n",
      "0\n",
      "644\n",
      "1344\n",
      "0\n",
      "0\n",
      "0\n",
      "0\n",
      "0\n",
      "0\n",
      "0\n"
     ]
    },
    {
     "data": {
      "text/plain": [
       "['Avg Monthly Long Distance Charges', 'Avg Monthly GB Download']"
      ]
     },
     "execution_count": 27,
     "metadata": {},
     "output_type": "execute_result"
    }
   ],
   "source": [
    "numerical_nul_columns = []\n",
    "\n",
    "for i in range(len(numerical_columns)):\n",
    "        print(data[numerical_columns[i]].isnull().sum())\n",
    "        if data[numerical_columns[i]].isnull().sum() != 0:\n",
    "               numerical_nul_columns.append(numerical_columns[i])\n",
    "        \n",
    "\n",
    "numerical_nul_columns"
   ]
  },
  {
   "cell_type": "code",
   "execution_count": 29,
   "id": "ba163709",
   "metadata": {},
   "outputs": [
    {
     "data": {
      "text/plain": [
       "['Avg Monthly Long Distance Charges', 'Avg Monthly GB Download']"
      ]
     },
     "execution_count": 29,
     "metadata": {},
     "output_type": "execute_result"
    }
   ],
   "source": [
    "numerical_nul_columns"
   ]
  },
  {
   "cell_type": "markdown",
   "id": "a1016d16",
   "metadata": {},
   "source": [
    "# filling or replacing null values with appropriate values in numerical_nul_columns"
   ]
  },
  {
   "cell_type": "code",
   "execution_count": 31,
   "id": "d3cb629b",
   "metadata": {},
   "outputs": [
    {
     "data": {
      "text/plain": [
       "count    5945.000000\n",
       "mean       25.496246\n",
       "std        14.198424\n",
       "min         1.010000\n",
       "25%        13.140000\n",
       "50%        25.720000\n",
       "75%        37.690000\n",
       "max        49.990000\n",
       "Name: Avg Monthly Long Distance Charges, dtype: float64"
      ]
     },
     "execution_count": 31,
     "metadata": {},
     "output_type": "execute_result"
    }
   ],
   "source": [
    "data['Avg Monthly Long Distance Charges'].describe()"
   ]
  },
  {
   "cell_type": "code",
   "execution_count": 33,
   "id": "46cc3ed9",
   "metadata": {},
   "outputs": [
    {
     "data": {
      "text/plain": [
       "count    5245.000000\n",
       "mean       26.225929\n",
       "std        19.565724\n",
       "min         2.000000\n",
       "25%        13.000000\n",
       "50%        21.000000\n",
       "75%        30.000000\n",
       "max        85.000000\n",
       "Name: Avg Monthly GB Download, dtype: float64"
      ]
     },
     "execution_count": 33,
     "metadata": {},
     "output_type": "execute_result"
    }
   ],
   "source": [
    "data['Avg Monthly GB Download'].describe()"
   ]
  },
  {
   "cell_type": "code",
   "execution_count": 35,
   "id": "aee33032",
   "metadata": {},
   "outputs": [
    {
     "data": {
      "text/plain": [
       "19.0    213\n",
       "27.0    189\n",
       "30.0    188\n",
       "59.0    182\n",
       "26.0    178\n",
       "23.0    174\n",
       "18.0    161\n",
       "22.0    161\n",
       "21.0    160\n",
       "13.0    154\n",
       "16.0    150\n",
       "20.0    146\n",
       "17.0    145\n",
       "28.0    142\n",
       "24.0    141\n",
       "11.0    139\n",
       "12.0    135\n",
       "29.0    132\n",
       "15.0    126\n",
       "3.0     126\n",
       "10.0    124\n",
       "4.0     121\n",
       "25.0    120\n",
       "8.0     117\n",
       "14.0    117\n",
       "52.0    115\n",
       "7.0     110\n",
       "6.0     109\n",
       "2.0     108\n",
       "9.0     107\n",
       "5.0     106\n",
       "51.0     86\n",
       "53.0     83\n",
       "48.0     80\n",
       "73.0     77\n",
       "69.0     71\n",
       "41.0     65\n",
       "76.0     55\n",
       "85.0     46\n",
       "58.0     45\n",
       "42.0     44\n",
       "82.0     40\n",
       "71.0     39\n",
       "47.0     36\n",
       "57.0     34\n",
       "46.0     18\n",
       "56.0     15\n",
       "75.0     14\n",
       "39.0      1\n",
       "Name: Avg Monthly GB Download, dtype: int64"
      ]
     },
     "execution_count": 35,
     "metadata": {},
     "output_type": "execute_result"
    }
   ],
   "source": [
    "data['Avg Monthly GB Download'].value_counts()"
   ]
  },
  {
   "cell_type": "code",
   "execution_count": 37,
   "id": "59a306a0",
   "metadata": {},
   "outputs": [
    {
     "data": {
      "text/plain": [
       "34.49    6\n",
       "18.26    6\n",
       "27.97    6\n",
       "10.11    6\n",
       "18.42    6\n",
       "        ..\n",
       "22.26    1\n",
       "47.03    1\n",
       "42.21    1\n",
       "37.92    1\n",
       "2.01     1\n",
       "Name: Avg Monthly Long Distance Charges, Length: 3451, dtype: int64"
      ]
     },
     "execution_count": 37,
     "metadata": {},
     "output_type": "execute_result"
    }
   ],
   "source": [
    "data['Avg Monthly Long Distance Charges'].value_counts()"
   ]
  },
  {
   "cell_type": "code",
   "execution_count": 38,
   "id": "bd7c7e73",
   "metadata": {},
   "outputs": [],
   "source": [
    "data=data.drop('Avg Monthly Long Distance Charges',axis=1)"
   ]
  },
  {
   "cell_type": "code",
   "execution_count": 40,
   "id": "4eb2594e",
   "metadata": {},
   "outputs": [],
   "source": [
    "data=data.drop('Avg Monthly GB Download',axis=1)"
   ]
  },
  {
   "cell_type": "markdown",
   "id": "01162446",
   "metadata": {},
   "source": [
    "# Categorical null value columns"
   ]
  },
  {
   "cell_type": "code",
   "execution_count": 41,
   "id": "b00738da",
   "metadata": {},
   "outputs": [
    {
     "data": {
      "text/plain": [
       "20"
      ]
     },
     "execution_count": 41,
     "metadata": {},
     "output_type": "execute_result"
    }
   ],
   "source": [
    "non_numerical_columns=data.select_dtypes(include=['object']).columns\n",
    "len(non_numerical_columns)"
   ]
  },
  {
   "cell_type": "code",
   "execution_count": 42,
   "id": "960c7cf4",
   "metadata": {},
   "outputs": [
    {
     "name": "stdout",
     "output_type": "stream",
     "text": [
      "0\n",
      "0\n",
      "0\n",
      "0\n",
      "0\n",
      "0\n",
      "644\n",
      "0\n",
      "1344\n",
      "1344\n",
      "1344\n",
      "1344\n",
      "1344\n",
      "1344\n",
      "1344\n",
      "1344\n",
      "1344\n",
      "0\n",
      "0\n",
      "0\n"
     ]
    },
    {
     "data": {
      "text/plain": [
       "['Multiple Lines',\n",
       " 'Internet Type',\n",
       " 'Online Security',\n",
       " 'Online Backup',\n",
       " 'Device Protection Plan',\n",
       " 'Premium Tech Support',\n",
       " 'Streaming TV',\n",
       " 'Streaming Movies',\n",
       " 'Streaming Music',\n",
       " 'Unlimited Data']"
      ]
     },
     "execution_count": 42,
     "metadata": {},
     "output_type": "execute_result"
    }
   ],
   "source": [
    "non_numerical_nul_columns = []\n",
    "for i in range(len(non_numerical_columns)):\n",
    "    print(data[non_numerical_columns[i]].isnull().sum())\n",
    "    if data[non_numerical_columns[i]].isnull().sum() != 0:\n",
    "        non_numerical_nul_columns.append(non_numerical_columns[i])\n",
    "        \n",
    "    \n",
    "non_numerical_nul_columns"
   ]
  },
  {
   "cell_type": "markdown",
   "id": "2997ef88",
   "metadata": {},
   "source": [
    "# Analysing non numerical null colums to drop or fill null with appropriate values"
   ]
  },
  {
   "cell_type": "code",
   "execution_count": 43,
   "id": "4cb8fa49",
   "metadata": {},
   "outputs": [
    {
     "name": "stdout",
     "output_type": "stream",
     "text": [
      "No     3019\n",
      "Yes    2926\n",
      "Name: Multiple Lines, dtype: int64\n",
      "\n",
      "Fiber Optic    2934\n",
      "DSL            1537\n",
      "Cable           774\n",
      "Name: Internet Type, dtype: int64\n",
      "\n",
      "No     3272\n",
      "Yes    1973\n",
      "Name: Online Security, dtype: int64\n",
      "\n",
      "No     2870\n",
      "Yes    2375\n",
      "Name: Online Backup, dtype: int64\n",
      "\n",
      "No     2855\n",
      "Yes    2390\n",
      "Name: Device Protection Plan, dtype: int64\n",
      "\n",
      "No     3248\n",
      "Yes    1997\n",
      "Name: Premium Tech Support, dtype: int64\n",
      "\n",
      "Yes    2658\n",
      "No     2587\n",
      "Name: Streaming TV, dtype: int64\n",
      "\n",
      "Yes    2683\n",
      "No     2562\n",
      "Name: Streaming Movies, dtype: int64\n",
      "\n",
      "No     2809\n",
      "Yes    2436\n",
      "Name: Streaming Music, dtype: int64\n",
      "\n",
      "Yes    4521\n",
      "No      724\n",
      "Name: Unlimited Data, dtype: int64\n",
      "\n"
     ]
    }
   ],
   "source": [
    "for i in non_numerical_nul_columns:\n",
    "    print(data[i].value_counts())\n",
    "    print()"
   ]
  },
  {
   "cell_type": "code",
   "execution_count": 54,
   "id": "e10dc9c1",
   "metadata": {},
   "outputs": [],
   "source": [
    "dropping_list=['City','Zip Code','Latitude','Longitude','Phone Service','Offer','Total Extra Data Charges','Customer ID',\n",
    "              'Unlimited Data','Payment Method','Number of Referrals','Number of Dependents','City']"
   ]
  },
  {
   "cell_type": "code",
   "execution_count": 59,
   "id": "0b4e9cd2",
   "metadata": {},
   "outputs": [
    {
     "data": {
      "text/plain": [
       "No     3248\n",
       "Yes    1997\n",
       "Name: Premium Tech Support, dtype: int64"
      ]
     },
     "execution_count": 59,
     "metadata": {},
     "output_type": "execute_result"
    }
   ],
   "source": [
    "data[\"Premium Tech Support\"].value_counts()"
   ]
  },
  {
   "cell_type": "code",
   "execution_count": 55,
   "id": "94bd944a",
   "metadata": {},
   "outputs": [],
   "source": [
    "data=data.drop(columns=dropping_list)"
   ]
  },
  {
   "cell_type": "code",
   "execution_count": 56,
   "id": "5ef890b0",
   "metadata": {},
   "outputs": [
    {
     "name": "stdout",
     "output_type": "stream",
     "text": [
      "<class 'pandas.core.frame.DataFrame'>\n",
      "RangeIndex: 6589 entries, 0 to 6588\n",
      "Data columns (total 22 columns):\n",
      " #   Column                       Non-Null Count  Dtype  \n",
      "---  ------                       --------------  -----  \n",
      " 0   Gender                       6589 non-null   object \n",
      " 1   Age                          6589 non-null   int64  \n",
      " 2   Married                      6589 non-null   object \n",
      " 3   Tenure in Months             6589 non-null   int64  \n",
      " 4   Multiple Lines               5945 non-null   object \n",
      " 5   Internet Service             6589 non-null   object \n",
      " 6   Internet Type                5245 non-null   object \n",
      " 7   Online Security              5245 non-null   object \n",
      " 8   Online Backup                5245 non-null   object \n",
      " 9   Device Protection Plan       5245 non-null   object \n",
      " 10  Premium Tech Support         5245 non-null   object \n",
      " 11  Streaming TV                 5245 non-null   object \n",
      " 12  Streaming Movies             5245 non-null   object \n",
      " 13  Streaming Music              5245 non-null   object \n",
      " 14  Contract                     6589 non-null   object \n",
      " 15  Paperless Billing            6589 non-null   object \n",
      " 16  Monthly Charge               6589 non-null   float64\n",
      " 17  Total Charges                6589 non-null   float64\n",
      " 18  Total Refunds                6589 non-null   float64\n",
      " 19  Total Long Distance Charges  6589 non-null   float64\n",
      " 20  Total Revenue                6589 non-null   float64\n",
      " 21  Customer Status              6589 non-null   int64  \n",
      "dtypes: float64(5), int64(3), object(14)\n",
      "memory usage: 1.1+ MB\n"
     ]
    }
   ],
   "source": [
    "data.info()"
   ]
  },
  {
   "cell_type": "markdown",
   "id": "046ac91c",
   "metadata": {},
   "source": [
    "# finding corelation between target column and other numerical column and removing the columns that has correlation coefficient less than 0.5"
   ]
  },
  {
   "cell_type": "code",
   "execution_count": 60,
   "id": "11545537",
   "metadata": {},
   "outputs": [],
   "source": [
    "numerical_columns2=data.select_dtypes(include=['int64','float64']).columns"
   ]
  },
  {
   "cell_type": "code",
   "execution_count": 63,
   "id": "ab6ffd4b",
   "metadata": {},
   "outputs": [
    {
     "data": {
      "text/plain": [
       "Index(['Age', 'Tenure in Months', 'Monthly Charge', 'Total Charges',\n",
       "       'Total Refunds', 'Total Long Distance Charges', 'Total Revenue',\n",
       "       'Customer Status'],\n",
       "      dtype='object')"
      ]
     },
     "execution_count": 63,
     "metadata": {},
     "output_type": "execute_result"
    }
   ],
   "source": [
    "numerical_columns2"
   ]
  },
  {
   "cell_type": "code",
   "execution_count": 64,
   "id": "160fe411",
   "metadata": {},
   "outputs": [],
   "source": [
    "numerical_columns2 = numerical_columns2[:-1]"
   ]
  },
  {
   "cell_type": "code",
   "execution_count": null,
   "id": "cd193412",
   "metadata": {},
   "outputs": [],
   "source": []
  },
  {
   "cell_type": "code",
   "execution_count": 71,
   "id": "baa312b3",
   "metadata": {},
   "outputs": [
    {
     "data": {
      "text/plain": [
       "7"
      ]
     },
     "execution_count": 71,
     "metadata": {},
     "output_type": "execute_result"
    }
   ],
   "source": [
    "len(numerical_columns2)"
   ]
  },
  {
   "cell_type": "code",
   "execution_count": 67,
   "id": "1fccb5f9",
   "metadata": {},
   "outputs": [],
   "source": [
    "s='Customer Status'\n",
    "value=list()\n",
    "for i in numerical_columns2:\n",
    "    value.append(abs(data[i].corr(data[s])))\n"
   ]
  },
  {
   "cell_type": "code",
   "execution_count": 68,
   "id": "d1a099df",
   "metadata": {},
   "outputs": [
    {
     "name": "stdout",
     "output_type": "stream",
     "text": [
      "{'Age': 0.11117376177748765, 'Tenure in Months': 0.433758867381682, 'Monthly Charge': 0.1682896477122819, 'Total Charges': 0.25007127037504073, 'Total Refunds': 0.0435252746694996, 'Total Long Distance Charges': 0.2684296975885968, 'Total Revenue': 0.27862614275734837}\n"
     ]
    }
   ],
   "source": [
    "keys=numerical_columns2\n",
    "values=value\n",
    "correlation_dict={}\n",
    "\n",
    "correlation_dict=dict(zip(keys, values))\n",
    "print(correlation_dict)"
   ]
  },
  {
   "cell_type": "code",
   "execution_count": 73,
   "id": "1a94d0f8",
   "metadata": {},
   "outputs": [
    {
     "name": "stdout",
     "output_type": "stream",
     "text": [
      "[]\n"
     ]
    }
   ],
   "source": [
    "above_corr_0_5=[key for key,value in correlation_dict.items() if value>0.5]\n",
    "print(above_corr_0_5)"
   ]
  },
  {
   "cell_type": "code",
   "execution_count": 74,
   "id": "e50a186f",
   "metadata": {},
   "outputs": [
    {
     "name": "stdout",
     "output_type": "stream",
     "text": [
      "['Age', 'Tenure in Months', 'Monthly Charge', 'Total Charges', 'Total Refunds', 'Total Long Distance Charges', 'Total Revenue']\n"
     ]
    }
   ],
   "source": [
    "below_corr_0_5=[key for key,value in correlation_dict.items() if value<0.5]\n",
    "print(below_corr_0_5)"
   ]
  },
  {
   "cell_type": "code",
   "execution_count": 75,
   "id": "7dca981d",
   "metadata": {},
   "outputs": [],
   "source": [
    "data=data.drop(columns=below_corr_0_5)"
   ]
  },
  {
   "cell_type": "code",
   "execution_count": 76,
   "id": "ddeffbb6",
   "metadata": {},
   "outputs": [
    {
     "name": "stdout",
     "output_type": "stream",
     "text": [
      "<class 'pandas.core.frame.DataFrame'>\n",
      "RangeIndex: 6589 entries, 0 to 6588\n",
      "Data columns (total 15 columns):\n",
      " #   Column                  Non-Null Count  Dtype \n",
      "---  ------                  --------------  ----- \n",
      " 0   Gender                  6589 non-null   object\n",
      " 1   Married                 6589 non-null   object\n",
      " 2   Multiple Lines          5945 non-null   object\n",
      " 3   Internet Service        6589 non-null   object\n",
      " 4   Internet Type           5245 non-null   object\n",
      " 5   Online Security         5245 non-null   object\n",
      " 6   Online Backup           5245 non-null   object\n",
      " 7   Device Protection Plan  5245 non-null   object\n",
      " 8   Premium Tech Support    5245 non-null   object\n",
      " 9   Streaming TV            5245 non-null   object\n",
      " 10  Streaming Movies        5245 non-null   object\n",
      " 11  Streaming Music         5245 non-null   object\n",
      " 12  Contract                6589 non-null   object\n",
      " 13  Paperless Billing       6589 non-null   object\n",
      " 14  Customer Status         6589 non-null   int64 \n",
      "dtypes: int64(1), object(14)\n",
      "memory usage: 772.3+ KB\n"
     ]
    }
   ],
   "source": [
    "data.info()"
   ]
  },
  {
   "cell_type": "markdown",
   "id": "bc046a72",
   "metadata": {},
   "source": [
    "# Filling and droping non numerical columns that has null values continuation"
   ]
  },
  {
   "cell_type": "code",
   "execution_count": 77,
   "id": "d7ee3953",
   "metadata": {},
   "outputs": [],
   "source": [
    "data['Multiple Lines'].fillna(method='ffill', inplace=True)"
   ]
  },
  {
   "cell_type": "code",
   "execution_count": 78,
   "id": "664f148a",
   "metadata": {},
   "outputs": [],
   "source": [
    "data=data.drop('Internet Type', axis=1)"
   ]
  },
  {
   "cell_type": "code",
   "execution_count": 79,
   "id": "cc779428",
   "metadata": {},
   "outputs": [],
   "source": [
    "data['Online Security'].fillna(method='ffill', inplace=True)"
   ]
  },
  {
   "cell_type": "code",
   "execution_count": 80,
   "id": "bdb5e946",
   "metadata": {},
   "outputs": [],
   "source": [
    "data['Online Backup'].fillna(method='ffill', inplace=True)"
   ]
  },
  {
   "cell_type": "code",
   "execution_count": 81,
   "id": "ee0a3abb",
   "metadata": {},
   "outputs": [],
   "source": [
    "data['Device Protection Plan'].fillna(method='ffill', inplace=True)"
   ]
  },
  {
   "cell_type": "code",
   "execution_count": 92,
   "id": "c1ea1ecb",
   "metadata": {},
   "outputs": [
    {
     "data": {
      "text/plain": [
       "Yes    3374\n",
       "No     3215\n",
       "Name: Streaming Movies, dtype: int64"
      ]
     },
     "execution_count": 92,
     "metadata": {},
     "output_type": "execute_result"
    }
   ],
   "source": [
    "data['Streaming Movies'].value_counts()"
   ]
  },
  {
   "cell_type": "code",
   "execution_count": 85,
   "id": "45bc4c55",
   "metadata": {},
   "outputs": [],
   "source": [
    "data['Premium Tech Support'].fillna(method='ffill', inplace=True)"
   ]
  },
  {
   "cell_type": "code",
   "execution_count": 88,
   "id": "0ba1452f",
   "metadata": {},
   "outputs": [],
   "source": [
    "data['Streaming TV'].fillna(method='ffill', inplace=True)"
   ]
  },
  {
   "cell_type": "code",
   "execution_count": 91,
   "id": "5f4a4c54",
   "metadata": {},
   "outputs": [],
   "source": [
    "data['Streaming Movies'].fillna(method='ffill', inplace=True)"
   ]
  },
  {
   "cell_type": "code",
   "execution_count": 94,
   "id": "91762102",
   "metadata": {},
   "outputs": [],
   "source": [
    "data=data.drop('Contract', axis=1)"
   ]
  },
  {
   "cell_type": "code",
   "execution_count": 96,
   "id": "3551bab3",
   "metadata": {},
   "outputs": [],
   "source": [
    "data['Streaming Music'].fillna(method='ffill', inplace=True)"
   ]
  },
  {
   "cell_type": "code",
   "execution_count": 98,
   "id": "dd26bbd7",
   "metadata": {},
   "outputs": [
    {
     "name": "stdout",
     "output_type": "stream",
     "text": [
      "<class 'pandas.core.frame.DataFrame'>\n",
      "RangeIndex: 6589 entries, 0 to 6588\n",
      "Data columns (total 13 columns):\n",
      " #   Column                  Non-Null Count  Dtype \n",
      "---  ------                  --------------  ----- \n",
      " 0   Gender                  6589 non-null   object\n",
      " 1   Married                 6589 non-null   object\n",
      " 2   Multiple Lines          6589 non-null   object\n",
      " 3   Internet Service        6589 non-null   object\n",
      " 4   Online Security         6589 non-null   object\n",
      " 5   Online Backup           6589 non-null   object\n",
      " 6   Device Protection Plan  6589 non-null   object\n",
      " 7   Premium Tech Support    6589 non-null   object\n",
      " 8   Streaming TV            6589 non-null   object\n",
      " 9   Streaming Movies        6589 non-null   object\n",
      " 10  Streaming Music         6589 non-null   object\n",
      " 11  Paperless Billing       6589 non-null   object\n",
      " 12  Customer Status         6589 non-null   int64 \n",
      "dtypes: int64(1), object(12)\n",
      "memory usage: 669.3+ KB\n"
     ]
    }
   ],
   "source": [
    "data.info()"
   ]
  },
  {
   "cell_type": "markdown",
   "id": "fae750c8",
   "metadata": {},
   "source": [
    "# Perform label encoding"
   ]
  },
  {
   "cell_type": "code",
   "execution_count": null,
   "id": "b3dc6ff8",
   "metadata": {},
   "outputs": [],
   "source": []
  },
  {
   "cell_type": "code",
   "execution_count": 104,
   "id": "1733fcad",
   "metadata": {},
   "outputs": [],
   "source": [
    "non_numerical_columns2=data.select_dtypes(include=['object']).columns"
   ]
  },
  {
   "cell_type": "code",
   "execution_count": 105,
   "id": "b304edfb",
   "metadata": {},
   "outputs": [
    {
     "name": "stdout",
     "output_type": "stream",
     "text": [
      "Index(['Gender', 'Married', 'Multiple Lines', 'Internet Service',\n",
      "       'Online Security', 'Online Backup', 'Device Protection Plan',\n",
      "       'Premium Tech Support', 'Streaming TV', 'Streaming Movies',\n",
      "       'Streaming Music', 'Paperless Billing'],\n",
      "      dtype='object')\n"
     ]
    },
    {
     "data": {
      "text/plain": [
       "12"
      ]
     },
     "execution_count": 105,
     "metadata": {},
     "output_type": "execute_result"
    }
   ],
   "source": [
    "print(non_numerical_columns2)\n",
    "len(non_numerical_columns2)"
   ]
  },
  {
   "cell_type": "code",
   "execution_count": 106,
   "id": "f8cc56b0",
   "metadata": {},
   "outputs": [
    {
     "data": {
      "text/plain": [
       "13"
      ]
     },
     "execution_count": 106,
     "metadata": {},
     "output_type": "execute_result"
    }
   ],
   "source": [
    "data1=data\n",
    "len(data1.columns)"
   ]
  },
  {
   "cell_type": "code",
   "execution_count": 108,
   "id": "5f4baf4f",
   "metadata": {},
   "outputs": [
    {
     "name": "stdout",
     "output_type": "stream",
     "text": [
      "      Customer Status  Gender_LabelEncoded  Married_LabelEncoded  \\\n",
      "0                   1                    0                     1   \n",
      "1                   1                    1                     0   \n",
      "2                   0                    1                     0   \n",
      "3                   0                    1                     1   \n",
      "4                   0                    0                     1   \n",
      "...               ...                  ...                   ...   \n",
      "6584                0                    0                     0   \n",
      "6585                1                    0                     0   \n",
      "6586                0                    1                     1   \n",
      "6587                1                    1                     1   \n",
      "6588                1                    1                     1   \n",
      "\n",
      "      Multiple Lines_LabelEncoded  Internet Service_LabelEncoded  \\\n",
      "0                               0                              1   \n",
      "1                               1                              1   \n",
      "2                               0                              1   \n",
      "3                               0                              1   \n",
      "4                               0                              1   \n",
      "...                           ...                            ...   \n",
      "6584                            0                              0   \n",
      "6585                            0                              1   \n",
      "6586                            1                              1   \n",
      "6587                            0                              1   \n",
      "6588                            0                              1   \n",
      "\n",
      "      Online Security_LabelEncoded  Online Backup_LabelEncoded  \\\n",
      "0                                0                           1   \n",
      "1                                0                           0   \n",
      "2                                0                           0   \n",
      "3                                0                           1   \n",
      "4                                0                           0   \n",
      "...                            ...                         ...   \n",
      "6584                             0                           0   \n",
      "6585                             1                           0   \n",
      "6586                             0                           0   \n",
      "6587                             1                           0   \n",
      "6588                             1                           1   \n",
      "\n",
      "      Device Protection Plan_LabelEncoded  Premium Tech Support_LabelEncoded  \\\n",
      "0                                       0                                  1   \n",
      "1                                       0                                  0   \n",
      "2                                       1                                  0   \n",
      "3                                       1                                  0   \n",
      "4                                       0                                  1   \n",
      "...                                   ...                                ...   \n",
      "6584                                    0                                  0   \n",
      "6585                                    0                                  1   \n",
      "6586                                    0                                  0   \n",
      "6587                                    1                                  1   \n",
      "6588                                    1                                  0   \n",
      "\n",
      "      Streaming TV_LabelEncoded  Streaming Movies_LabelEncoded  \\\n",
      "0                             1                              0   \n",
      "1                             0                              1   \n",
      "2                             0                              0   \n",
      "3                             1                              1   \n",
      "4                             1                              0   \n",
      "...                         ...                            ...   \n",
      "6584                          0                              0   \n",
      "6585                          0                              0   \n",
      "6586                          0                              1   \n",
      "6587                          0                              1   \n",
      "6588                          1                              1   \n",
      "\n",
      "      Streaming Music_LabelEncoded  Paperless Billing_LabelEncoded  \n",
      "0                                0                               1  \n",
      "1                                1                               0  \n",
      "2                                0                               1  \n",
      "3                                0                               1  \n",
      "4                                0                               1  \n",
      "...                            ...                             ...  \n",
      "6584                             0                               0  \n",
      "6585                             1                               0  \n",
      "6586                             1                               1  \n",
      "6587                             1                               0  \n",
      "6588                             1                               0  \n",
      "\n",
      "[6589 rows x 13 columns]\n"
     ]
    }
   ],
   "source": [
    "from sklearn.preprocessing import LabelEncoder\n",
    "label_encoder = LabelEncoder()\n",
    "for column in non_numerical_columns2:\n",
    "    data1[column + '_LabelEncoded']=label_encoder.fit_transform(data1[column])\n",
    "    data1=data1.drop(column,axis=1)\n",
    "print(data1)"
   ]
  },
  {
   "cell_type": "code",
   "execution_count": 109,
   "id": "d6deb1c6",
   "metadata": {},
   "outputs": [
    {
     "data": {
      "text/html": [
       "<div>\n",
       "<style scoped>\n",
       "    .dataframe tbody tr th:only-of-type {\n",
       "        vertical-align: middle;\n",
       "    }\n",
       "\n",
       "    .dataframe tbody tr th {\n",
       "        vertical-align: top;\n",
       "    }\n",
       "\n",
       "    .dataframe thead th {\n",
       "        text-align: right;\n",
       "    }\n",
       "</style>\n",
       "<table border=\"1\" class=\"dataframe\">\n",
       "  <thead>\n",
       "    <tr style=\"text-align: right;\">\n",
       "      <th></th>\n",
       "      <th>Customer Status</th>\n",
       "      <th>Gender_LabelEncoded</th>\n",
       "      <th>Married_LabelEncoded</th>\n",
       "      <th>Multiple Lines_LabelEncoded</th>\n",
       "      <th>Internet Service_LabelEncoded</th>\n",
       "      <th>Online Security_LabelEncoded</th>\n",
       "      <th>Online Backup_LabelEncoded</th>\n",
       "      <th>Device Protection Plan_LabelEncoded</th>\n",
       "      <th>Premium Tech Support_LabelEncoded</th>\n",
       "      <th>Streaming TV_LabelEncoded</th>\n",
       "      <th>Streaming Movies_LabelEncoded</th>\n",
       "      <th>Streaming Music_LabelEncoded</th>\n",
       "      <th>Paperless Billing_LabelEncoded</th>\n",
       "    </tr>\n",
       "  </thead>\n",
       "  <tbody>\n",
       "    <tr>\n",
       "      <th>0</th>\n",
       "      <td>1</td>\n",
       "      <td>0</td>\n",
       "      <td>1</td>\n",
       "      <td>0</td>\n",
       "      <td>1</td>\n",
       "      <td>0</td>\n",
       "      <td>1</td>\n",
       "      <td>0</td>\n",
       "      <td>1</td>\n",
       "      <td>1</td>\n",
       "      <td>0</td>\n",
       "      <td>0</td>\n",
       "      <td>1</td>\n",
       "    </tr>\n",
       "    <tr>\n",
       "      <th>1</th>\n",
       "      <td>1</td>\n",
       "      <td>1</td>\n",
       "      <td>0</td>\n",
       "      <td>1</td>\n",
       "      <td>1</td>\n",
       "      <td>0</td>\n",
       "      <td>0</td>\n",
       "      <td>0</td>\n",
       "      <td>0</td>\n",
       "      <td>0</td>\n",
       "      <td>1</td>\n",
       "      <td>1</td>\n",
       "      <td>0</td>\n",
       "    </tr>\n",
       "    <tr>\n",
       "      <th>2</th>\n",
       "      <td>0</td>\n",
       "      <td>1</td>\n",
       "      <td>0</td>\n",
       "      <td>0</td>\n",
       "      <td>1</td>\n",
       "      <td>0</td>\n",
       "      <td>0</td>\n",
       "      <td>1</td>\n",
       "      <td>0</td>\n",
       "      <td>0</td>\n",
       "      <td>0</td>\n",
       "      <td>0</td>\n",
       "      <td>1</td>\n",
       "    </tr>\n",
       "    <tr>\n",
       "      <th>3</th>\n",
       "      <td>0</td>\n",
       "      <td>1</td>\n",
       "      <td>1</td>\n",
       "      <td>0</td>\n",
       "      <td>1</td>\n",
       "      <td>0</td>\n",
       "      <td>1</td>\n",
       "      <td>1</td>\n",
       "      <td>0</td>\n",
       "      <td>1</td>\n",
       "      <td>1</td>\n",
       "      <td>0</td>\n",
       "      <td>1</td>\n",
       "    </tr>\n",
       "    <tr>\n",
       "      <th>4</th>\n",
       "      <td>0</td>\n",
       "      <td>0</td>\n",
       "      <td>1</td>\n",
       "      <td>0</td>\n",
       "      <td>1</td>\n",
       "      <td>0</td>\n",
       "      <td>0</td>\n",
       "      <td>0</td>\n",
       "      <td>1</td>\n",
       "      <td>1</td>\n",
       "      <td>0</td>\n",
       "      <td>0</td>\n",
       "      <td>1</td>\n",
       "    </tr>\n",
       "  </tbody>\n",
       "</table>\n",
       "</div>"
      ],
      "text/plain": [
       "   Customer Status  Gender_LabelEncoded  Married_LabelEncoded  \\\n",
       "0                1                    0                     1   \n",
       "1                1                    1                     0   \n",
       "2                0                    1                     0   \n",
       "3                0                    1                     1   \n",
       "4                0                    0                     1   \n",
       "\n",
       "   Multiple Lines_LabelEncoded  Internet Service_LabelEncoded  \\\n",
       "0                            0                              1   \n",
       "1                            1                              1   \n",
       "2                            0                              1   \n",
       "3                            0                              1   \n",
       "4                            0                              1   \n",
       "\n",
       "   Online Security_LabelEncoded  Online Backup_LabelEncoded  \\\n",
       "0                             0                           1   \n",
       "1                             0                           0   \n",
       "2                             0                           0   \n",
       "3                             0                           1   \n",
       "4                             0                           0   \n",
       "\n",
       "   Device Protection Plan_LabelEncoded  Premium Tech Support_LabelEncoded  \\\n",
       "0                                    0                                  1   \n",
       "1                                    0                                  0   \n",
       "2                                    1                                  0   \n",
       "3                                    1                                  0   \n",
       "4                                    0                                  1   \n",
       "\n",
       "   Streaming TV_LabelEncoded  Streaming Movies_LabelEncoded  \\\n",
       "0                          1                              0   \n",
       "1                          0                              1   \n",
       "2                          0                              0   \n",
       "3                          1                              1   \n",
       "4                          1                              0   \n",
       "\n",
       "   Streaming Music_LabelEncoded  Paperless Billing_LabelEncoded  \n",
       "0                             0                               1  \n",
       "1                             1                               0  \n",
       "2                             0                               1  \n",
       "3                             0                               1  \n",
       "4                             0                               1  "
      ]
     },
     "execution_count": 109,
     "metadata": {},
     "output_type": "execute_result"
    }
   ],
   "source": [
    "data1.head()"
   ]
  },
  {
   "cell_type": "markdown",
   "id": "f3d3317b",
   "metadata": {},
   "source": [
    "# Rearrange the column for quick processing"
   ]
  },
  {
   "cell_type": "code",
   "execution_count": 110,
   "id": "d0da195d",
   "metadata": {},
   "outputs": [
    {
     "name": "stdout",
     "output_type": "stream",
     "text": [
      "      Gender_LabelEncoded  Married_LabelEncoded  Multiple Lines_LabelEncoded  \\\n",
      "0                       0                     1                            0   \n",
      "1                       1                     0                            1   \n",
      "2                       1                     0                            0   \n",
      "3                       1                     1                            0   \n",
      "4                       0                     1                            0   \n",
      "...                   ...                   ...                          ...   \n",
      "6584                    0                     0                            0   \n",
      "6585                    0                     0                            0   \n",
      "6586                    1                     1                            1   \n",
      "6587                    1                     1                            0   \n",
      "6588                    1                     1                            0   \n",
      "\n",
      "      Internet Service_LabelEncoded  Online Security_LabelEncoded  \\\n",
      "0                                 1                             0   \n",
      "1                                 1                             0   \n",
      "2                                 1                             0   \n",
      "3                                 1                             0   \n",
      "4                                 1                             0   \n",
      "...                             ...                           ...   \n",
      "6584                              0                             0   \n",
      "6585                              1                             1   \n",
      "6586                              1                             0   \n",
      "6587                              1                             1   \n",
      "6588                              1                             1   \n",
      "\n",
      "      Online Backup_LabelEncoded  Device Protection Plan_LabelEncoded  \\\n",
      "0                              1                                    0   \n",
      "1                              0                                    0   \n",
      "2                              0                                    1   \n",
      "3                              1                                    1   \n",
      "4                              0                                    0   \n",
      "...                          ...                                  ...   \n",
      "6584                           0                                    0   \n",
      "6585                           0                                    0   \n",
      "6586                           0                                    0   \n",
      "6587                           0                                    1   \n",
      "6588                           1                                    1   \n",
      "\n",
      "      Premium Tech Support_LabelEncoded  Streaming TV_LabelEncoded  \\\n",
      "0                                     1                          1   \n",
      "1                                     0                          0   \n",
      "2                                     0                          0   \n",
      "3                                     0                          1   \n",
      "4                                     1                          1   \n",
      "...                                 ...                        ...   \n",
      "6584                                  0                          0   \n",
      "6585                                  1                          0   \n",
      "6586                                  0                          0   \n",
      "6587                                  1                          0   \n",
      "6588                                  0                          1   \n",
      "\n",
      "      Streaming Movies_LabelEncoded  Streaming Music_LabelEncoded  \\\n",
      "0                                 0                             0   \n",
      "1                                 1                             1   \n",
      "2                                 0                             0   \n",
      "3                                 1                             0   \n",
      "4                                 0                             0   \n",
      "...                             ...                           ...   \n",
      "6584                              0                             0   \n",
      "6585                              0                             1   \n",
      "6586                              1                             1   \n",
      "6587                              1                             1   \n",
      "6588                              1                             1   \n",
      "\n",
      "      Paperless Billing_LabelEncoded  Customer Status  \n",
      "0                                  1                1  \n",
      "1                                  0                1  \n",
      "2                                  1                0  \n",
      "3                                  1                0  \n",
      "4                                  1                0  \n",
      "...                              ...              ...  \n",
      "6584                               0                0  \n",
      "6585                               0                1  \n",
      "6586                               1                0  \n",
      "6587                               0                1  \n",
      "6588                               0                1  \n",
      "\n",
      "[6589 rows x 13 columns]\n"
     ]
    }
   ],
   "source": [
    "column_to_move='Customer Status'\n",
    "columns_except_target=[col for col in data1.columns if col!=column_to_move]\n",
    "data1=data1[columns_except_target + [column_to_move]]\n",
    "print(data1)"
   ]
  },
  {
   "cell_type": "code",
   "execution_count": 114,
   "id": "43513143",
   "metadata": {},
   "outputs": [
    {
     "data": {
      "text/plain": [
       "13"
      ]
     },
     "execution_count": 114,
     "metadata": {},
     "output_type": "execute_result"
    }
   ],
   "source": [
    "len(data1.columns)"
   ]
  },
  {
   "cell_type": "code",
   "execution_count": 113,
   "id": "1ac92e80",
   "metadata": {},
   "outputs": [
    {
     "data": {
      "text/plain": [
       "6589"
      ]
     },
     "execution_count": 113,
     "metadata": {},
     "output_type": "execute_result"
    }
   ],
   "source": [
    "len(data1)"
   ]
  },
  {
   "cell_type": "markdown",
   "id": "e6b19f38",
   "metadata": {},
   "source": [
    "# Segregate independent and dependent variables"
   ]
  },
  {
   "cell_type": "code",
   "execution_count": 115,
   "id": "573b6800",
   "metadata": {},
   "outputs": [],
   "source": [
    "x = data1.iloc[:,:-1].values\n",
    "y = data1.iloc[:,-1].values"
   ]
  },
  {
   "cell_type": "markdown",
   "id": "00c9690b",
   "metadata": {},
   "source": [
    "# Train - test split"
   ]
  },
  {
   "cell_type": "code",
   "execution_count": 116,
   "id": "c4e172cd",
   "metadata": {},
   "outputs": [],
   "source": [
    "from sklearn.model_selection import train_test_split"
   ]
  },
  {
   "cell_type": "code",
   "execution_count": 117,
   "id": "1ae6382b",
   "metadata": {},
   "outputs": [],
   "source": [
    "x_train,x_test,y_train,y_test = train_test_split(x,y,\n",
    " test_size=0.3)"
   ]
  },
  {
   "cell_type": "code",
   "execution_count": 118,
   "id": "795bff97",
   "metadata": {},
   "outputs": [
    {
     "data": {
      "text/html": [
       "<style>#sk-container-id-1 {color: black;background-color: white;}#sk-container-id-1 pre{padding: 0;}#sk-container-id-1 div.sk-toggleable {background-color: white;}#sk-container-id-1 label.sk-toggleable__label {cursor: pointer;display: block;width: 100%;margin-bottom: 0;padding: 0.3em;box-sizing: border-box;text-align: center;}#sk-container-id-1 label.sk-toggleable__label-arrow:before {content: \"▸\";float: left;margin-right: 0.25em;color: #696969;}#sk-container-id-1 label.sk-toggleable__label-arrow:hover:before {color: black;}#sk-container-id-1 div.sk-estimator:hover label.sk-toggleable__label-arrow:before {color: black;}#sk-container-id-1 div.sk-toggleable__content {max-height: 0;max-width: 0;overflow: hidden;text-align: left;background-color: #f0f8ff;}#sk-container-id-1 div.sk-toggleable__content pre {margin: 0.2em;color: black;border-radius: 0.25em;background-color: #f0f8ff;}#sk-container-id-1 input.sk-toggleable__control:checked~div.sk-toggleable__content {max-height: 200px;max-width: 100%;overflow: auto;}#sk-container-id-1 input.sk-toggleable__control:checked~label.sk-toggleable__label-arrow:before {content: \"▾\";}#sk-container-id-1 div.sk-estimator input.sk-toggleable__control:checked~label.sk-toggleable__label {background-color: #d4ebff;}#sk-container-id-1 div.sk-label input.sk-toggleable__control:checked~label.sk-toggleable__label {background-color: #d4ebff;}#sk-container-id-1 input.sk-hidden--visually {border: 0;clip: rect(1px 1px 1px 1px);clip: rect(1px, 1px, 1px, 1px);height: 1px;margin: -1px;overflow: hidden;padding: 0;position: absolute;width: 1px;}#sk-container-id-1 div.sk-estimator {font-family: monospace;background-color: #f0f8ff;border: 1px dotted black;border-radius: 0.25em;box-sizing: border-box;margin-bottom: 0.5em;}#sk-container-id-1 div.sk-estimator:hover {background-color: #d4ebff;}#sk-container-id-1 div.sk-parallel-item::after {content: \"\";width: 100%;border-bottom: 1px solid gray;flex-grow: 1;}#sk-container-id-1 div.sk-label:hover label.sk-toggleable__label {background-color: #d4ebff;}#sk-container-id-1 div.sk-serial::before {content: \"\";position: absolute;border-left: 1px solid gray;box-sizing: border-box;top: 0;bottom: 0;left: 50%;z-index: 0;}#sk-container-id-1 div.sk-serial {display: flex;flex-direction: column;align-items: center;background-color: white;padding-right: 0.2em;padding-left: 0.2em;position: relative;}#sk-container-id-1 div.sk-item {position: relative;z-index: 1;}#sk-container-id-1 div.sk-parallel {display: flex;align-items: stretch;justify-content: center;background-color: white;position: relative;}#sk-container-id-1 div.sk-item::before, #sk-container-id-1 div.sk-parallel-item::before {content: \"\";position: absolute;border-left: 1px solid gray;box-sizing: border-box;top: 0;bottom: 0;left: 50%;z-index: -1;}#sk-container-id-1 div.sk-parallel-item {display: flex;flex-direction: column;z-index: 1;position: relative;background-color: white;}#sk-container-id-1 div.sk-parallel-item:first-child::after {align-self: flex-end;width: 50%;}#sk-container-id-1 div.sk-parallel-item:last-child::after {align-self: flex-start;width: 50%;}#sk-container-id-1 div.sk-parallel-item:only-child::after {width: 0;}#sk-container-id-1 div.sk-dashed-wrapped {border: 1px dashed gray;margin: 0 0.4em 0.5em 0.4em;box-sizing: border-box;padding-bottom: 0.4em;background-color: white;}#sk-container-id-1 div.sk-label label {font-family: monospace;font-weight: bold;display: inline-block;line-height: 1.2em;}#sk-container-id-1 div.sk-label-container {text-align: center;}#sk-container-id-1 div.sk-container {/* jupyter's `normalize.less` sets `[hidden] { display: none; }` but bootstrap.min.css set `[hidden] { display: none !important; }` so we also need the `!important` here to be able to override the default hidden behavior on the sphinx rendered scikit-learn.org. See: https://github.com/scikit-learn/scikit-learn/issues/21755 */display: inline-block !important;position: relative;}#sk-container-id-1 div.sk-text-repr-fallback {display: none;}</style><div id=\"sk-container-id-1\" class=\"sk-top-container\"><div class=\"sk-text-repr-fallback\"><pre>LogisticRegression()</pre><b>In a Jupyter environment, please rerun this cell to show the HTML representation or trust the notebook. <br />On GitHub, the HTML representation is unable to render, please try loading this page with nbviewer.org.</b></div><div class=\"sk-container\" hidden><div class=\"sk-item\"><div class=\"sk-estimator sk-toggleable\"><input class=\"sk-toggleable__control sk-hidden--visually\" id=\"sk-estimator-id-1\" type=\"checkbox\" checked><label for=\"sk-estimator-id-1\" class=\"sk-toggleable__label sk-toggleable__label-arrow\">LogisticRegression</label><div class=\"sk-toggleable__content\"><pre>LogisticRegression()</pre></div></div></div></div></div>"
      ],
      "text/plain": [
       "LogisticRegression()"
      ]
     },
     "execution_count": 118,
     "metadata": {},
     "output_type": "execute_result"
    }
   ],
   "source": [
    "from sklearn.linear_model import LogisticRegression\n",
    "reg=LogisticRegression()\n",
    "reg.fit(x_train,y_train)"
   ]
  },
  {
   "cell_type": "code",
   "execution_count": 119,
   "id": "6a0a560a",
   "metadata": {},
   "outputs": [
    {
     "data": {
      "text/plain": [
       "array([[ 253,  298],\n",
       "       [ 156, 1270]])"
      ]
     },
     "execution_count": 119,
     "metadata": {},
     "output_type": "execute_result"
    }
   ],
   "source": [
    "y_pred=reg.predict(x_test)\n",
    "(y_test,y_pred)\n",
    "from sklearn.metrics import confusion_matrix,accuracy_score,classification_report\n",
    "\n",
    "confusion_matrix(y_test,y_pred)"
   ]
  },
  {
   "cell_type": "code",
   "execution_count": 120,
   "id": "c51e1e8c",
   "metadata": {},
   "outputs": [
    {
     "data": {
      "text/plain": [
       "0.7703591299949418"
      ]
     },
     "execution_count": 120,
     "metadata": {},
     "output_type": "execute_result"
    }
   ],
   "source": [
    "accuracy_score(y_test,y_pred)"
   ]
  },
  {
   "cell_type": "code",
   "execution_count": 121,
   "id": "0f14f48b",
   "metadata": {},
   "outputs": [
    {
     "data": {
      "text/plain": [
       "'              precision    recall  f1-score   support\\n\\n           0       0.62      0.46      0.53       551\\n           1       0.81      0.89      0.85      1426\\n\\n    accuracy                           0.77      1977\\n   macro avg       0.71      0.67      0.69      1977\\nweighted avg       0.76      0.77      0.76      1977\\n'"
      ]
     },
     "execution_count": 121,
     "metadata": {},
     "output_type": "execute_result"
    }
   ],
   "source": [
    "classification_report(y_test,y_pred)"
   ]
  },
  {
   "cell_type": "code",
   "execution_count": 122,
   "id": "4d715bba",
   "metadata": {},
   "outputs": [],
   "source": [
    "import matplotlib.pyplot as plt"
   ]
  },
  {
   "cell_type": "code",
   "execution_count": null,
   "id": "ae4bfa71",
   "metadata": {},
   "outputs": [],
   "source": []
  },
  {
   "cell_type": "code",
   "execution_count": null,
   "id": "0d09a0af",
   "metadata": {},
   "outputs": [],
   "source": []
  }
 ],
 "metadata": {
  "kernelspec": {
   "display_name": "Python 3 (ipykernel)",
   "language": "python",
   "name": "python3"
  },
  "language_info": {
   "codemirror_mode": {
    "name": "ipython",
    "version": 3
   },
   "file_extension": ".py",
   "mimetype": "text/x-python",
   "name": "python",
   "nbconvert_exporter": "python",
   "pygments_lexer": "ipython3",
   "version": "3.9.13"
  }
 },
 "nbformat": 4,
 "nbformat_minor": 5
}
